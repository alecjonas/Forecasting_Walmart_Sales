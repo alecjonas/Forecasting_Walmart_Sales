{
 "cells": [
  {
   "cell_type": "code",
   "execution_count": 11,
   "metadata": {},
   "outputs": [],
   "source": [
    "import os\n",
    "import itertools\n",
    "import numpy as np\n",
    "import pandas as pd\n",
    "import matplotlib.pyplot as plt\n",
    "import statsmodels.api as sm\n",
    "from statsmodels.tsa.arima_model import ARIMA, ARIMAResults\n",
    "from statsmodels.tsa.arima_process import ArmaProcess\n",
    "from statsmodels.stats.diagnostic import acorr_ljungbox\n",
    "from scipy import signal\n",
    "import datetime\n",
    "import itertools\n",
    "\n",
    "# Later, for ARIMA\n",
    "from statsmodels.tsa.statespace.sarimax import SARIMAX\n",
    "\n",
    "# Always make it pretty.\n",
    "plt.style.use('ggplot')\n",
    "\n",
    "# We get some interger -> float typecast warning from sklearn below, this keeps them \n",
    "# out of our hair.\n",
    "import warnings\n",
    "warnings.filterwarnings('ignore')"
   ]
  },
  {
   "cell_type": "code",
   "execution_count": 2,
   "metadata": {},
   "outputs": [],
   "source": [
    "def update_calendar(cutoff):\n",
    "    calendar_update = calendar.iloc[:cutoff, :]\n",
    "    calendar_dates = calendar_update[['date', 'd']]\n",
    "    calendar_dates = calendar_dates.set_index('d')\n",
    "    return calendar_dates\n",
    "\n",
    "def drop_christmas(series):\n",
    "    df = calendar[['date', 'd']]\n",
    "    df['date'] = pd.to_datetime(df['date'])\n",
    "    df = df.set_index('date')\n",
    "    df['month'] = df.index.month\n",
    "    df['day'] = df.index.day\n",
    "    month_mask = df['month'] == 12\n",
    "    day_mask = df['day'] == 25\n",
    "    df = df[month_mask & day_mask]\n",
    "    df = df.drop(columns = ['month', 'day'])\n",
    "    df['date'] = df.index\n",
    "    df = df.set_index('d')\n",
    "    lst = df.index.tolist()\n",
    "    return series.drop(index = lst)\n",
    "\n",
    "def make_date_time(Series):\n",
    "    df = pd.DataFrame(Series)\n",
    "    df1 = df.join(calendar_updates)\n",
    "    df1['date'] = pd.to_datetime(df1['date'])\n",
    "    df1 = df1.set_index('date')\n",
    "    return df1\n",
    "\n",
    "#To make a graph with a linear trendline\n",
    "def plot_trend_data(ax, name, series):\n",
    "    ax.plot(series.index, series)\n",
    "    ax.set_title(name)\n",
    "    \n",
    "def to_col_vector(arr):\n",
    "    \"\"\"Convert a one dimensional numpy array to a column vector.\"\"\"\n",
    "    return arr.reshape(-1, 1)\n",
    "\n",
    "def make_design_matrix(arr):\n",
    "    \"\"\"Construct a design matrix from a numpy array, including an intercept term.\"\"\"\n",
    "    return sm.add_constant(to_col_vector(arr), prepend=False)\n",
    "\n",
    "def fit_linear_trend(series):\n",
    "    \"\"\"Fit a linear trend to a time series.  Return the fit trend as a numpy array.\"\"\"\n",
    "    X = make_design_matrix(np.arange(len(series)) + 1)\n",
    "    linear_trend_ols = sm.OLS(series.values, X).fit()\n",
    "    linear_trend = linear_trend_ols.predict(X)\n",
    "    return linear_trend\n",
    "\n",
    "def plot_linear_trend(ax, name, series):\n",
    "    linear_trend = fit_linear_trend(series)\n",
    "    plot_trend_data(ax, name, series)\n",
    "    ax.plot(series.index, linear_trend)\n",
    "    \n",
    "# To make a detrended graph\n",
    "def detrended_graph(Series):\n",
    "    python_series = Series\n",
    "    python_linear_trend = fit_linear_trend(python_series)\n",
    "    python_series_detrended = python_series - python_linear_trend\n",
    "\n",
    "    fig, ax = plt.subplots(1, figsize=(14, 2))\n",
    "    ax.plot(python_series_detrended.index, python_series_detrended)\n",
    "    ax.set_title(\"Sales Detrended\")\n",
    "    plt.tight_layout()\n",
    "    \n",
    "def fit_moving_average_trend(series, window=6):\n",
    "    return series.rolling(window, center=True).mean()\n",
    "\n",
    "def plot_moving_average_trend(ax, name, series, window=6):\n",
    "    moving_average_trend = fit_moving_average_trend(series, window)\n",
    "    plot_trend_data(ax, name, series)\n",
    "    ax.plot(series.index, moving_average_trend)\n",
    "    \n",
    "def create_monthly_dummies(series):\n",
    "    i = series.index.interval\n",
    "    # Only take 11 of the 12 dummies to avoid strict colinearity.\n",
    "    return pd.get_dummies(i).iloc[:, :11]\n",
    "\n",
    "def fit_seasonal_trend(series):\n",
    "    dummies = create_monthly_dummies(series)\n",
    "    X = sm.add_constant(dummies.values, prepend=False)\n",
    "    seasonal_model = sm.OLS(series.values, X).fit()\n",
    "    return seasonal_model.predict(X)\n",
    "\n",
    "def plot_seasonal_trend(ax, name, series, interval='month'):\n",
    "    seasons_average_trend = fit_seasonal_trend(series)\n",
    "    plot_trend_data(ax, name, series)\n",
    "    ax.plot(series.index, seasons_average_trend)\n",
    "\n",
    "def deseasonalize(Series):\n",
    "    series = Series.iloc[:, 0]\n",
    "    seasonal_trend = fit_seasonal_trend(Series)\n",
    "    seasonal_detrended = series - seasonal_trend\n",
    "\n",
    "    fig, ax = plt.subplots(1, figsize=(14, 2))\n",
    "    ax.plot(Series.index, _seasonal_detrended)\n",
    "    ax.set_title(f'Walmart {list(Series)[0]} Sales, Deseasonalized')\n",
    "    \n",
    "def resample_series(series, interval):\n",
    "    df = series.resample(interval).sum()\n",
    "    df = df.iloc[1:, :]\n",
    "    df = df.iloc[:-1, :]\n",
    "    return df\n",
    "\n",
    "def plot_seasonal_decomposition(axs, series):\n",
    "    sd = sm.tsa.seasonal_decompose(series)\n",
    "    axs[0].plot(series.index, series)\n",
    "    axs[0].set_title(\"Raw Series\")\n",
    "    axs[0].set_ylabel('Sales')\n",
    "    axs[1].plot(series.index, sd.trend)\n",
    "    axs[1].set_title(\"Trend Component $T_t$\")\n",
    "    axs[1].set_ylabel('Sales')\n",
    "    axs[2].plot(series.index, sd.seasonal)\n",
    "    axs[2].set_title(\"Seasonal Component $S_t$\")\n",
    "    axs[2].set_ylabel('Sales')\n",
    "    axs[3].plot(series.index, sd.resid)\n",
    "    axs[3].set_title(\"Residual Component $R_t$\")\n",
    "    axs[3].set_xlabel('Time')\n",
    "    axs[3].set_ylabel('Sales')\n",
    "    \n",
    "def make_forecast(series, interval, num_of_test_periods, forecast_period, forecast_month):\n",
    "    '''\n",
    "    Forecast Sales at Given Interval for a Given Series. Can be used to train, or to predict unseen data.\n",
    "    \n",
    "    Params:\n",
    "    Series- Series that you want to forecast\n",
    "    Interval- 'Q, M, W, d'\n",
    "    num_of_test_periods- For example, if you enter '2' it will take your 'monthly' forecast\n",
    "                         and will leave off the latest 2 periods so you can test against it for accuracy\n",
    "    forecast_period- Can be up to the num_of_test_periods. If you leave off 2 months, you can forecast/predict\n",
    "                     the first or the second month\n",
    "    forecast_month-  If your forecast period is 1 and you are forecasting into february, you need to put a 2\n",
    "                     so the seasonality for that month can be added in\n",
    "    \n",
    "    Returns:\n",
    "    forecast- The projected units sold for that specific series\n",
    "    error- will give you the error for what percent your forecast differs from actuals\n",
    "    '''\n",
    "    df = resample_series(series, interval)\n",
    "    train_series = df[:-num_of_test_periods]\n",
    "    X = make_design_matrix(np.arange(len(train_series)) + 1)\n",
    "    linear_trend_ols = sm.OLS(train_series.values, X).fit()\n",
    "    slope_intercept = linear_trend_ols.params\n",
    "    slope = slope_intercept[0]\n",
    "    intercept = slope_intercept[1]\n",
    "    trend = slope*(len(train_series) + forecast_period) + intercept\n",
    "    sd = sm.tsa.seasonal_decompose(df)\n",
    "    seasonal_pattern = sd.seasonal[11:23]\n",
    "    seasonal = seasonal_pattern.loc[seasonal_pattern.index.month == forecast_month].iloc[0, 0]\n",
    "    forecast = trend + seasonal\n",
    "    actual = df[-num_of_test_periods:].loc[df[-num_of_test_periods:].index.month == forecast_month].iloc[0, 0]\n",
    "    error = (forecast-actual)/actual\n",
    "    return forecast, error, actual\n",
    "\n",
    "def trickle_down_forecast(upper_forecast, actual, path_lst):\n",
    "    forecast = upper_forecast * np.prod(path_lst)\n",
    "    if actual == None:\n",
    "        return forecast\n",
    "    else:\n",
    "        error = (forecast - actual)/actual\n",
    "        return forecast, error\n",
    "    \n",
    "def naive_monthly_distribution(store, department, product_id, lst_of_years, month_num):\n",
    "    lst=[]\n",
    "    newDF = pd.DataFrame()\n",
    "    mask1 = sales_train['store_id'] == store\n",
    "    mask2 = sales_train['dept_id'] == department\n",
    "    df = sales_train[mask1 & mask2].copy()\n",
    "    df = df.drop(columns = ['item_id', 'dept_id', 'store_id', 'state_id', 'cat_id'])\n",
    "    df = df.set_index('id')\n",
    "    df = df.loc[[product_id]]\n",
    "    df = df.T\n",
    "    df = make_date_time(df)\n",
    "    df['day'] = df.index.day\n",
    "    df['month'] = df.index.month\n",
    "    df['year'] = df.index.year\n",
    "    df['day_of_week'] = df.index.dayofweek\n",
    "    df = df[df['month'] == month_num]\n",
    "    for year in lst_of_years:\n",
    "        df1 = df.copy()\n",
    "        df1 = df1[df1['year'] == year]\n",
    "        df1.loc['TOTAL']= df1.iloc[:, 0].sum()\n",
    "        df1[f'{list(df1)[0]}_percent'] = df[list(df1)[0]] / df1.iloc[-1:, 0][0]\n",
    "        lst.append(pd.DataFrame(list(df1[list(df1)].iloc[:, -1][:-1])))\n",
    "    newDF = pd.concat(lst, ignore_index=True, axis=1)\n",
    "    newDF['average'] = newDF.mean(numeric_only=True, axis=1)\n",
    "    newDF.loc['TOTAL']= newDF.sum()\n",
    "    if month_num == 2:\n",
    "        check = newDF.iloc[-1, -1] - 1\n",
    "        if check > 0:\n",
    "            newDF.iloc[-2, -1] = newDF.iloc[-2, -1] - check\n",
    "            newDF.iloc[-1, -1] = newDF.iloc[-1, -1] - check\n",
    "    return newDF\n",
    "\n",
    "class graphs():\n",
    "    \n",
    "    def __init__(self, series, interval, name):\n",
    "        self.series = series\n",
    "        self.interval = interval\n",
    "        self.name = name\n",
    "\n",
    "    def TSR(self):\n",
    "        fig, axs = plt.subplots(4, figsize=(14, 8))\n",
    "        plot_seasonal_decomposition(axs, resample_series(self.series, self.interval))\n",
    "        fig.suptitle(self.name, y=1.05, x=.525, fontsize = 20)\n",
    "        plt.tight_layout()\n",
    "        \n",
    "    def linear_trend(self):\n",
    "        fig, ax = plt.subplots(1, figsize=(14, 12))\n",
    "        plot_linear_trend(ax, self.name, resample_series(self.series, self.interval))\n",
    "        ax.set_xlabel('Time')\n",
    "        ax.set_ylabel('Sales')\n",
    "        plt.tight_layout()\n",
    "        \n",
    "def make_series(store_id, dept_id):\n",
    "    '''\n",
    "    Use this function to make a series of the total sales for a specific store and department.\n",
    "    The series is to be used for forecasting in the make_forecast function.\n",
    "    '''\n",
    "    mask1 = sales_train['store_id'] == store_id\n",
    "    mask2 = sales_train['dept_id'] == dept_id\n",
    "    series = sales_train[mask1 & mask2].copy()\n",
    "    series = series.drop(columns = ['id', 'item_id', 'dept_id', 'store_id', 'state_id', 'cat_id'])\n",
    "    series.loc['TOTAL']= series.sum()\n",
    "    series = series.T\n",
    "    series = drop_christmas(series)\n",
    "    series = make_date_time(series)\n",
    "    series = series['TOTAL'].to_frame()\n",
    "    return series\n",
    "\n",
    "def monthly_product_distribution(store_id, dept_id):\n",
    "    mask1 = sales_train['store_id'] == store_id\n",
    "    mask2 = sales_train['dept_id'] == dept_id\n",
    "    series = sales_train[mask1 & mask2].copy()\n",
    "    series = series.drop(columns = ['item_id', 'dept_id', 'store_id', 'state_id', 'cat_id'])\n",
    "    series = series.set_index('id')\n",
    "    #series = series.loc[[product_id]]\n",
    "    series = series.T\n",
    "    series = make_date_time(series)\n",
    "    series = resample_series(series, 'M')\n",
    "    series = series.iloc[47:-3, :]\n",
    "    series.loc['TOTAL']= series.sum()\n",
    "    series = series.T\n",
    "    series['jan_percent'] = series.iloc[:, 0] / series.iloc[:, 12]\n",
    "    series['feb_percent'] = series.iloc[:, 1] / series.iloc[:, 12]\n",
    "    series['mar_percent'] = series.iloc[:, 2] / series.iloc[:, 12]\n",
    "    series['april_percent'] = series.iloc[:, 3] / series.iloc[:, 12]\n",
    "    series['may_percent'] = series.iloc[:, 4] / series.iloc[:, 12]\n",
    "    series['june_percent'] = series.iloc[:, 5] / series.iloc[:, 12]\n",
    "    series['july_percent'] = series.iloc[:, 6] / series.iloc[:, 12]\n",
    "    series['aug_percent'] = series.iloc[:, 7] / series.iloc[:, 12]\n",
    "    series['sep_percent'] = series.iloc[:, 8] / series.iloc[:, 12]\n",
    "    series['oct_percent'] = series.iloc[:, 9] / series.iloc[:, 12]\n",
    "    series['nov_percent'] = series.iloc[:, 10] / series.iloc[:, 12]\n",
    "    series['dec_percent'] = series.iloc[:, 11] / series.iloc[:, 12]\n",
    "    total = series.iloc[:, 12].to_frame()\n",
    "    total_sum = total.sum()[0]\n",
    "    total['unit_percent'] = total['TOTAL']/total_sum\n",
    "    return total\n",
    "\n",
    "def daily_distribution(store_dept_forecast, daily_series, store_id, dept_id, product_id, year, month):\n",
    "    df = daily_series.iloc[:-1, -1].to_frame()\n",
    "    df = df.fillna(0)\n",
    "    df['year'] = year\n",
    "    df['month'] = month\n",
    "    if month == 2:\n",
    "        if year %4 ==0:\n",
    "            df['day'] = list(range(1,30))\n",
    "        else:\n",
    "            df = df.iloc[:-1, :]\n",
    "            df['day'] = list(range(1,29))\n",
    "    elif month == 1 or month == 3 or month == 5 or month == 7 or month == 8 or month == 10 or month == 12:\n",
    "        df['day'] = range(1,32)\n",
    "    else:\n",
    "        df['day'] = range(1, 31)\n",
    "    df['date'] = pd.to_datetime(df[[\"year\", \"month\", \"day\"]])\n",
    "    df.index = df['date']\n",
    "    df = df.drop(columns = ['year', 'month', 'day', 'date'])\n",
    "    total = monthly_product_distribution(store_id, dept_id)\n",
    "    item_distribution = total.loc[product_id][1]\n",
    "    forecast_month_item = store_dept_forecast*item_distribution\n",
    "    df['units_sold'] = df['average'] * forecast_month_item\n",
    "    print(forecast_month_item)\n",
    "    return df.round(2)\n",
    "\n",
    "def get_product_actuals(store_id, dept_id, product_id, month, year):\n",
    "    mask11 = sales_train['store_id'] == store_id\n",
    "    mask21 = sales_train['dept_id'] == dept_id\n",
    "    series1 = sales_train[mask11 & mask21].copy()\n",
    "    series1 = series1.drop(columns = ['item_id', 'dept_id', 'store_id', 'state_id', 'cat_id'])\n",
    "    series1 = series1.T\n",
    "    series1 = drop_christmas(series1)\n",
    "    series1 = make_date_time(series1)\n",
    "    series1 = series1.T\n",
    "    series1 = series1.set_index('NaT')\n",
    "    series1 = series1.loc[product_id].to_frame()\n",
    "    series1 = series1[series1.index.month == month]\n",
    "    series1 = series1[series1.index.year == year]\n",
    "    return series1\n",
    "\n",
    "def actual_vs_forecast(actual_series, forecast_series):\n",
    "    df = forecast_series.copy()\n",
    "    df['actual'] = actual_series[list(actual_series)[0]]\n",
    "    df['forecast'] = abs(df['forecast'].round(1))\n",
    "    return df\n",
    "\n",
    "def reg_round_comparison(df):\n",
    "    df2 = df.round().copy()\n",
    "    df2['year'] = df2.index.year\n",
    "    df2['month'] = df2.index.month\n",
    "    df2['day'] =  df2.index.day\n",
    "    df2['date'] = pd.to_datetime(df2[[\"year\", \"month\", \"day\"]])\n",
    "    x = df2['date'].to_numpy().astype('datetime64[D]')\n",
    "    y = x.tolist()\n",
    "    y.append('Total')\n",
    "    y = np.asarray(y)\n",
    "    df2.loc['TOTAL']= df2.sum()\n",
    "    df2['forecast'] = df2['forecast'].apply(np.int64)\n",
    "    df2 = df2.set_index(y)\n",
    "    df2 = df2.drop(columns = ['year', 'month', 'day', 'date'])\n",
    "    return df2\n",
    "\n",
    "def manual_rounding_compy(df, round_up_decimal):\n",
    "    df3 = df.copy()\n",
    "    for i in range(len(df3)):\n",
    "        if int(str(df3['forecast'][i])[-1:]) >= round_up_decimal:\n",
    "            df3['forecast'][i] = np.ceil(df3['forecast'][i])\n",
    "        else:\n",
    "            df3['forecast'][i] = np.floor(df3['forecast'][i])\n",
    "    df3['year'] = df3.index.year\n",
    "    df3['month'] = df3.index.month\n",
    "    df3['day'] =  df3.index.day\n",
    "    df3['date'] = pd.to_datetime(df3[[\"year\", \"month\", \"day\"]])\n",
    "    x = df3['date'].to_numpy().astype('datetime64[D]')\n",
    "    y = x.tolist()\n",
    "    y.append('Total')\n",
    "    y = np.asarray(y)\n",
    "    df3.loc['Total']= df3.sum()\n",
    "    df3['forecast'] = df3['forecast'].apply(np.int64)\n",
    "    df3 = df3.set_index(y)\n",
    "    df3 = df3.drop(columns = ['year', 'month', 'day', 'date'])\n",
    "    return df3\n",
    "\n",
    "def no_rounding_comparison(df):\n",
    "    df2 = df.copy()\n",
    "    df2['year'] = df2.index.year\n",
    "    df2['month'] = df2.index.month\n",
    "    df2['day'] =  df2.index.day\n",
    "    df2['date'] = pd.to_datetime(df2[[\"year\", \"month\", \"day\"]])\n",
    "    x = df2['date'].to_numpy().astype('datetime64[D]')\n",
    "    y = x.tolist()\n",
    "    y.append('Total')\n",
    "    y = np.asarray(y)\n",
    "    df2.loc['TOTAL']= df2.sum()\n",
    "    df2 = df2.set_index(y)\n",
    "    df2 = df2.drop(columns = ['year', 'month', 'day', 'date'])\n",
    "    return df2\n",
    "\n",
    "#New as of 5/17/20\n",
    "def series_setup(store_id, dept_id):\n",
    "    lst = []\n",
    "    for i in store_id:\n",
    "        count = 0\n",
    "        while count != len(dept_id):\n",
    "            lst.append([i, dept_id[count]])\n",
    "            count += 1\n",
    "    return lst"
   ]
  },
  {
   "cell_type": "code",
   "execution_count": 3,
   "metadata": {},
   "outputs": [],
   "source": [
    "sales_train = pd.read_csv('../data/sales_train_validation.csv')\n",
    "sell_prices = pd.read_csv('../data/sell_prices.csv')\n",
    "calendar = pd.read_csv('../data/calendar.csv')\n",
    "\n",
    "calendar_updates = update_calendar(1913)\n",
    "\n",
    "sales_train_cat = sales_train.groupby(['cat_id']).sum()\n",
    "sales_train_cat_food = sales_train_cat.iloc[0, :].T\n",
    "sales_train_cat_hobbies = sales_train_cat.iloc[1, :].T\n",
    "sales_train_cat_household = sales_train_cat.iloc[2, :].T\n",
    "\n",
    "sales_train_cat.loc['TOTAL']= sales_train_cat.sum()\n",
    "sales_train_cat_all = sales_train_cat.iloc[3, :].T\n",
    "\n",
    "sales_train_dept = sales_train.groupby(['dept_id']).sum()\n",
    "sales_train_dept_food1 = sales_train_dept.iloc[0, :].T\n",
    "sales_train_dept_food2 = sales_train_dept.iloc[1, :].T\n",
    "sales_train_dept_food3 = sales_train_dept.iloc[2, :].T\n",
    "sales_train_dept_hobbies1 = sales_train_dept.iloc[3, :].T\n",
    "sales_train_dept_hobbies2 = sales_train_dept.iloc[4, :].T\n",
    "sales_train_dept_household1 = sales_train_dept.iloc[5, :].T\n",
    "sales_train_dept_household2 = sales_train_dept.iloc[6, :].T\n",
    "\n",
    "sales_train_state = sales_train.groupby(['state_id']).sum()\n",
    "sales_train_ca = sales_train_state.iloc[0, :].T\n",
    "sales_train_tx = sales_train_state.iloc[1, :].T\n",
    "sales_train_wi = sales_train_state.iloc[2, :].T\n",
    "\n",
    "sales_train_store = sales_train.groupby(['store_id']).sum()\n",
    "sales_train_ca1 = sales_train_store.iloc[0, :].T\n",
    "sales_train_ca2 = sales_train_store.iloc[1, :].T\n",
    "sales_train_ca3 = sales_train_store.iloc[2, :].T\n",
    "sales_train_ca4 = sales_train_store.iloc[3, :].T\n",
    "sales_train_tx1 = sales_train_store.iloc[4, :].T\n",
    "sales_train_tx2 = sales_train_store.iloc[5, :].T\n",
    "sales_train_tx3 = sales_train_store.iloc[6, :].T\n",
    "sales_train_wi1 = sales_train_store.iloc[7, :].T\n",
    "sales_train_wi2 = sales_train_store.iloc[8, :].T\n",
    "sales_train_wi3 = sales_train_store.iloc[9, :].T\n",
    "\n",
    "sales_train_cat_food = drop_christmas(sales_train_cat_food)\n",
    "sales_train_cat_hobbies = drop_christmas(sales_train_cat_hobbies)\n",
    "sales_train_cat_household = drop_christmas(sales_train_cat_household)\n",
    "\n",
    "sales_train_cat_all = drop_christmas(sales_train_cat_all)\n",
    "\n",
    "sales_train_dept_food1 = drop_christmas(sales_train_dept_food1)\n",
    "sales_train_dept_food2 = drop_christmas(sales_train_dept_food2)\n",
    "sales_train_dept_food3 = drop_christmas(sales_train_dept_food3)\n",
    "sales_train_dept_hobbies1 = drop_christmas(sales_train_dept_hobbies1)\n",
    "sales_train_dept_hobbies2 = drop_christmas(sales_train_dept_hobbies2)\n",
    "sales_train_dept_household1 = drop_christmas(sales_train_dept_household1)\n",
    "sales_train_dept_household2 = drop_christmas(sales_train_dept_household2)\n",
    "\n",
    "sales_train_ca = drop_christmas(sales_train_ca)\n",
    "sales_train_tx = drop_christmas(sales_train_tx)\n",
    "sales_train_wi = drop_christmas(sales_train_wi)\n",
    "\n",
    "sales_train_ca1 = drop_christmas(sales_train_ca1)\n",
    "sales_train_ca2 = drop_christmas(sales_train_ca2)\n",
    "sales_train_ca3 = drop_christmas(sales_train_ca3)\n",
    "sales_train_ca4 = drop_christmas(sales_train_ca4)\n",
    "sales_train_tx1 = drop_christmas(sales_train_tx1)\n",
    "sales_train_tx2 = drop_christmas(sales_train_tx2)\n",
    "sales_train_tx3 = drop_christmas(sales_train_tx3)\n",
    "sales_train_wi1 = drop_christmas(sales_train_wi1)\n",
    "sales_train_wi2 = drop_christmas(sales_train_wi2)\n",
    "sales_train_wi3 = drop_christmas(sales_train_wi3)\n",
    "\n",
    "big_food = make_date_time(sales_train_cat_food)\n",
    "big_hobby = make_date_time(sales_train_cat_hobbies)\n",
    "big_household = make_date_time(sales_train_cat_household)\n",
    "\n",
    "big_all = make_date_time(sales_train_cat_all)\n",
    "\n",
    "med_food1 = make_date_time(sales_train_dept_food1)\n",
    "med_food2 = make_date_time(sales_train_dept_food2)\n",
    "med_food3 = make_date_time(sales_train_dept_food3)\n",
    "med_hobby1 = make_date_time(sales_train_dept_hobbies1)\n",
    "med_hobby2 = make_date_time(sales_train_dept_hobbies2)\n",
    "med_household1 = make_date_time(sales_train_dept_household1)\n",
    "med_household2 = make_date_time(sales_train_dept_household2)\n",
    "\n",
    "state_ca = make_date_time(sales_train_ca)\n",
    "state_tx = make_date_time(sales_train_tx)\n",
    "state_wi = make_date_time(sales_train_wi)\n",
    "\n",
    "store_ca1 = make_date_time(sales_train_ca1)\n",
    "store_ca2 = make_date_time(sales_train_ca2)\n",
    "store_ca3 = make_date_time(sales_train_ca3)\n",
    "store_ca4 = make_date_time(sales_train_ca4)\n",
    "store_tx1 = make_date_time(sales_train_tx1)\n",
    "store_tx2 = make_date_time(sales_train_tx2)\n",
    "store_tx3 = make_date_time(sales_train_tx3)\n",
    "store_wi1 = make_date_time(sales_train_wi1)\n",
    "store_wi2 = make_date_time(sales_train_wi2)\n",
    "store_wi3 = make_date_time(sales_train_wi3)\n",
    "\n",
    "series_lst = [big_all, big_food, big_hobby, big_household,\n",
    "              med_food1, med_food2, med_food3, med_hobby1, med_hobby2, med_household1, med_household2,\n",
    "              state_ca, state_tx, state_wi,\n",
    "              store_ca1, store_ca2, store_ca3, store_ca4, store_tx1, store_tx2, store_tx3, store_wi1, store_wi2, store_wi3\n",
    "             ]\n",
    "\n",
    "sales_all = sales_train_cat.T\n",
    "sales_all = drop_christmas(sales_all)\n",
    "sales_all = make_date_time(sales_all)\n",
    "sales_all = resample_series(sales_all, 'M')\n",
    "sales_all['foods_percent'] = sales_all['FOODS']/sales_all['TOTAL']\n",
    "sales_all['hobbies_percent'] = sales_all['HOBBIES']/sales_all['TOTAL']\n",
    "sales_all['household_percent'] = sales_all['HOUSEHOLD']/sales_all['TOTAL']\n",
    "\n",
    "sales_dept_all = sales_train_dept.copy()\n",
    "sales_dept_all.loc['TOTAL']= sales_dept_all.sum()\n",
    "sales_dept_all = sales_dept_all.T\n",
    "sales_dept_all = drop_christmas(sales_dept_all)\n",
    "sales_dept_all = make_date_time(sales_dept_all)\n",
    "sales_dept_all = resample_series(sales_dept_all, 'M')\n",
    "sales_dept_all['foods1_percent'] = sales_dept_all['FOODS_1']/sales_dept_all['TOTAL']\n",
    "sales_dept_all['foods2_percent'] = sales_dept_all['FOODS_2']/sales_dept_all['TOTAL']\n",
    "sales_dept_all['foods3_percent'] = sales_dept_all['FOODS_3']/sales_dept_all['TOTAL']\n",
    "sales_dept_all['hobbies1_percent'] = sales_dept_all['HOBBIES_1']/sales_dept_all['TOTAL']\n",
    "sales_dept_all['hobbies2_percent'] = sales_dept_all['HOBBIES_2']/sales_dept_all['TOTAL']\n",
    "sales_dept_all['household1_percent'] = sales_dept_all['HOUSEHOLD_1']/sales_dept_all['TOTAL']\n",
    "sales_dept_all['household2_percent'] = sales_dept_all['HOUSEHOLD_2']/sales_dept_all['TOTAL']\n",
    "\n",
    "sales_state_all = sales_train_state.copy()\n",
    "sales_state_all.loc['TOTAL']= sales_state_all.sum()\n",
    "sales_state_all = sales_state_all.T\n",
    "sales_state_all = drop_christmas(sales_state_all)\n",
    "sales_state_all = make_date_time(sales_state_all)\n",
    "sales_state_all = resample_series(sales_state_all, 'M')\n",
    "sales_state_all['ca_percent'] = sales_state_all['CA']/sales_state_all['TOTAL']\n",
    "sales_state_all['tx_percent'] = sales_state_all['TX']/sales_state_all['TOTAL']\n",
    "sales_state_all['wi_percent'] = sales_state_all['WI']/sales_state_all['TOTAL']\n",
    "\n",
    "sales_store_all = sales_train_store.copy()\n",
    "sales_store_all.loc['TOTAL']= sales_store_all.sum()\n",
    "sales_store_all = sales_store_all.T\n",
    "sales_store_all = drop_christmas(sales_store_all)\n",
    "sales_store_all = make_date_time(sales_store_all)\n",
    "sales_store_all = resample_series(sales_store_all, 'M')\n",
    "sales_store_all['ca1_percent'] = sales_store_all['CA_1']/sales_store_all['TOTAL']\n",
    "sales_store_all['ca2_percent'] = sales_store_all['CA_2']/sales_store_all['TOTAL']\n",
    "sales_store_all['ca3_percent'] = sales_store_all['CA_3']/sales_store_all['TOTAL']\n",
    "sales_store_all['ca4_percent'] = sales_store_all['CA_4']/sales_store_all['TOTAL']\n",
    "sales_store_all['tx1_percent'] = sales_store_all['TX_1']/sales_store_all['TOTAL']\n",
    "sales_store_all['tx2_percent'] = sales_store_all['TX_2']/sales_store_all['TOTAL']\n",
    "sales_store_all['tx3_percent'] = sales_store_all['TX_3']/sales_store_all['TOTAL']\n",
    "sales_store_all['wi1_percent'] = sales_store_all['WI_1']/sales_store_all['TOTAL']\n",
    "sales_store_all['wi2_percent'] = sales_store_all['WI_2']/sales_store_all['TOTAL']\n",
    "sales_store_all['wi3_percent'] = sales_store_all['WI_3']/sales_store_all['TOTAL']\n",
    "\n",
    "sales_dept_food = sales_train_dept.iloc[:3, :].copy()\n",
    "sales_dept_food.loc['TOTAL']= sales_dept_food.sum()\n",
    "sales_dept_food = sales_dept_food.T\n",
    "sales_dept_food = drop_christmas(sales_dept_food)\n",
    "sales_dept_food = make_date_time(sales_dept_food)\n",
    "sales_dept_food = resample_series(sales_dept_food, 'M')\n",
    "sales_dept_food['foods1_percent'] = sales_dept_food['FOODS_1']/sales_dept_food['TOTAL']\n",
    "sales_dept_food['foods2_percent'] = sales_dept_food['FOODS_2']/sales_dept_food['TOTAL']\n",
    "sales_dept_food['foods3_percent'] = sales_dept_food['FOODS_3']/sales_dept_food['TOTAL']\n",
    "\n",
    "sales_dept_hobby = sales_train_dept.iloc[3:5, :].copy()\n",
    "sales_dept_hobby.loc['TOTAL']= sales_dept_hobby.sum()\n",
    "sales_dept_hobby = sales_dept_hobby.T\n",
    "sales_dept_hobby = drop_christmas(sales_dept_hobby)\n",
    "sales_dept_hobby = make_date_time(sales_dept_hobby)\n",
    "sales_dept_hobby = resample_series(sales_dept_hobby, 'M')\n",
    "sales_dept_hobby['hobbies1_percent'] = sales_dept_hobby['HOBBIES_1']/sales_dept_hobby['TOTAL']\n",
    "sales_dept_hobby['hobbies2_percent'] = sales_dept_hobby['HOBBIES_2']/sales_dept_hobby['TOTAL']\n",
    "\n",
    "sales_dept_household = sales_train_dept.iloc[5:7, :].copy()\n",
    "sales_dept_household.loc['TOTAL']= sales_dept_household.sum()\n",
    "sales_dept_household = sales_dept_household.T\n",
    "sales_dept_household = drop_christmas(sales_dept_household)\n",
    "sales_dept_household = make_date_time(sales_dept_household)\n",
    "sales_dept_household = resample_series(sales_dept_household, 'M')\n",
    "sales_dept_household['household1_percent'] = sales_dept_household['HOUSEHOLD_1']/sales_dept_household['TOTAL']\n",
    "sales_dept_household['household2_percent'] = sales_dept_household['HOUSEHOLD_2']/sales_dept_household['TOTAL']\n",
    "\n",
    "sales_store_ca = sales_train_store.iloc[:4, :].copy()\n",
    "sales_store_ca.loc['TOTAL']= sales_store_ca.sum()\n",
    "sales_store_ca = sales_store_ca.T\n",
    "sales_store_ca = drop_christmas(sales_store_ca)\n",
    "sales_store_ca = make_date_time(sales_store_ca)\n",
    "sales_store_ca = resample_series(sales_store_ca, 'M')\n",
    "sales_store_ca['ca1_percent'] = sales_store_ca['CA_1']/sales_store_ca['TOTAL']\n",
    "sales_store_ca['ca2_percent'] = sales_store_ca['CA_2']/sales_store_ca['TOTAL']\n",
    "sales_store_ca['ca3_percent'] = sales_store_ca['CA_3']/sales_store_ca['TOTAL']\n",
    "sales_store_ca['ca4_percent'] = sales_store_ca['CA_4']/sales_store_ca['TOTAL']\n",
    "\n",
    "\n",
    "sales_store_tx = sales_train_store.iloc[4:7, :].copy()\n",
    "sales_store_tx.loc['TOTAL']= sales_store_tx.sum()\n",
    "sales_store_tx = sales_store_tx.T\n",
    "sales_store_tx = drop_christmas(sales_store_tx)\n",
    "sales_store_tx = make_date_time(sales_store_tx)\n",
    "sales_store_tx = resample_series(sales_store_tx, 'M')\n",
    "sales_store_tx['tx1_percent'] = sales_store_tx['TX_1']/sales_store_tx['TOTAL']\n",
    "sales_store_tx['tx2_percent'] = sales_store_tx['TX_2']/sales_store_tx['TOTAL']\n",
    "sales_store_tx['tx3_percent'] = sales_store_tx['TX_3']/sales_store_tx['TOTAL']\n",
    "\n",
    "sales_store_wi = sales_train_store.iloc[7:10, :].copy()\n",
    "sales_store_wi.loc['TOTAL']= sales_store_wi.sum()\n",
    "sales_store_wi = sales_store_wi.T\n",
    "sales_store_wi = drop_christmas(sales_store_wi)\n",
    "sales_store_wi = make_date_time(sales_store_wi)\n",
    "sales_store_wi = resample_series(sales_store_wi, 'M')\n",
    "sales_store_wi['wi1_percent'] = sales_store_wi['WI_1']/sales_store_wi['TOTAL']\n",
    "sales_store_wi['wi2_percent'] = sales_store_wi['WI_2']/sales_store_wi['TOTAL']\n",
    "sales_store_wi['wi3_percent'] = sales_store_wi['WI_3']/sales_store_wi['TOTAL']\n",
    "\n",
    "foods_mean = sales_all.iloc[:, 4].mean()\n",
    "hobby_mean = sales_all.iloc[:, 5].mean()\n",
    "household_mean =sales_all.iloc[:, 6].mean()\n",
    "ca_mean = sales_state_all.iloc[:, 4].mean()\n",
    "tx_mean = sales_state_all.iloc[:, 5].mean()\n",
    "wi_mean = sales_state_all.iloc[:, 6].mean()\n",
    "foods1_mean = sales_dept_food.iloc[:, 4].mean()\n",
    "foods2_mean = sales_dept_food.iloc[:, 5].mean()\n",
    "foods3_mean = sales_dept_food.iloc[:, 6].mean()\n",
    "hobby1_mean = sales_dept_hobby.iloc[:, 3].mean()\n",
    "hobby2_mean = sales_dept_hobby.iloc[:, 4].mean()\n",
    "household1_mean = sales_dept_household.iloc[16:, 3].mean()\n",
    "household2_mean = sales_dept_household.iloc[16:, 4].mean()\n",
    "ca1_mean = sales_store_ca.iloc[:, 5].mean()\n",
    "ca2_mean = sales_store_ca.iloc[:, 6].mean()\n",
    "ca3_mean = sales_store_ca.iloc[:, 7].mean()\n",
    "ca4_mean = sales_store_ca.iloc[:, 8].mean()\n",
    "tx1_mean = sales_store_tx.iloc[40:, 4].mean()\n",
    "tx2_mean = sales_store_tx.iloc[40:, 5].mean()\n",
    "tx3_mean = sales_store_tx.iloc[40:, 6].mean()\n",
    "wi1_mean = sales_store_wi.iloc[22:, 4].mean()\n",
    "wi2_mean = sales_store_wi.iloc[22:, 5].mean()\n",
    "wi3_mean = sales_store_wi.iloc[22:, 6].mean()\n",
    "\n",
    "#New...as of 5/17/20\n",
    "dept_id = sales_train.dept_id.unique()\n",
    "cat_id = sales_train.cat_id.unique()\n",
    "store_id = sales_train.store_id.unique()\n",
    "state_id = sales_train.state_id.unique()"
   ]
  },
  {
   "cell_type": "code",
   "execution_count": 35,
   "metadata": {},
   "outputs": [
    {
     "data": {
      "text/plain": [
       "0.10171810390038058"
      ]
     },
     "execution_count": 35,
     "metadata": {},
     "output_type": "execute_result"
    }
   ],
   "source": [
    "series_lst = []\n",
    "for i in series_setup(store_id, dept_id):\n",
    "    series_lst.append(make_series(i[0], i[1]))\n",
    "    \n",
    "forecast_lst = []\n",
    "for i in series_lst:\n",
    "    forecast_lst.append(abs(make_forecast(i, 'M', 2, 1, 2)[1]))\n",
    "    \n",
    "arr = np.array(forecast_lst)\n",
    "arr.mean()"
   ]
  },
  {
   "cell_type": "code",
   "execution_count": 36,
   "metadata": {},
   "outputs": [
    {
     "data": {
      "image/png": "[encoded data removed]",
      "text/plain": [
       "<Figure size 432x288 with 1 Axes>"
      ]
     },
     "metadata": {},
     "output_type": "display_data"
    }
   ],
   "source": [
    "fig, ax = plt.subplots()\n",
    "ax.hist(arr)\n",
    "plt.show()"
   ]
  },
  {
   "cell_type": "code",
   "execution_count": 68,
   "metadata": {},
   "outputs": [
    {
     "name": "stdout",
     "output_type": "stream",
     "text": [
      "0: ['CA_1', 'HOBBIES_1'] error: 0.032\n",
      "1: ['CA_1', 'HOBBIES_2'] error: 0.159\n",
      "2: ['CA_1', 'HOUSEHOLD_1'] error: 0.034\n",
      "3: ['CA_1', 'HOUSEHOLD_2'] error: 0.019\n",
      "4: ['CA_1', 'FOODS_1'] error: 0.181\n",
      "5: ['CA_1', 'FOODS_2'] error: 0.003\n",
      "6: ['CA_1', 'FOODS_3'] error: 0.023\n",
      "7: ['CA_2', 'HOBBIES_1'] error: 0.114\n",
      "8: ['CA_2', 'HOBBIES_2'] error: 0.187\n",
      "9: ['CA_2', 'HOUSEHOLD_1'] error: 0.089\n",
      "10: ['CA_2', 'HOUSEHOLD_2'] error: 0.087\n",
      "11: ['CA_2', 'FOODS_1'] error: 0.101\n",
      "12: ['CA_2', 'FOODS_2'] error: 0.452\n",
      "13: ['CA_2', 'FOODS_3'] error: 0.289\n",
      "14: ['CA_3', 'HOBBIES_1'] error: 0.056\n",
      "15: ['CA_3', 'HOBBIES_2'] error: 0.343\n",
      "16: ['CA_3', 'HOUSEHOLD_1'] error: 0.101\n",
      "17: ['CA_3', 'HOUSEHOLD_2'] error: 0.019\n",
      "18: ['CA_3', 'FOODS_1'] error: 0.05\n",
      "19: ['CA_3', 'FOODS_2'] error: 0.079\n",
      "20: ['CA_3', 'FOODS_3'] error: 0.003\n",
      "21: ['CA_4', 'HOBBIES_1'] error: 0.083\n",
      "22: ['CA_4', 'HOBBIES_2'] error: 0.087\n",
      "23: ['CA_4', 'HOUSEHOLD_1'] error: 0.009\n",
      "24: ['CA_4', 'HOUSEHOLD_2'] error: 0.003\n",
      "25: ['CA_4', 'FOODS_1'] error: 0.148\n",
      "26: ['CA_4', 'FOODS_2'] error: 0.057\n",
      "27: ['CA_4', 'FOODS_3'] error: 0.01\n",
      "28: ['TX_1', 'HOBBIES_1'] error: 0.009\n",
      "29: ['TX_1', 'HOBBIES_2'] error: 0.002\n",
      "30: ['TX_1', 'HOUSEHOLD_1'] error: 0.122\n",
      "31: ['TX_1', 'HOUSEHOLD_2'] error: 0.146\n",
      "32: ['TX_1', 'FOODS_1'] error: 0.311\n",
      "33: ['TX_1', 'FOODS_2'] error: 0.06\n",
      "34: ['TX_1', 'FOODS_3'] error: 0.045\n",
      "35: ['TX_2', 'HOBBIES_1'] error: 0.032\n",
      "36: ['TX_2', 'HOBBIES_2'] error: 0.01\n",
      "37: ['TX_2', 'HOUSEHOLD_1'] error: 0.013\n",
      "38: ['TX_2', 'HOUSEHOLD_2'] error: 0.11\n",
      "39: ['TX_2', 'FOODS_1'] error: 0.144\n",
      "40: ['TX_2', 'FOODS_2'] error: 0.168\n",
      "41: ['TX_2', 'FOODS_3'] error: 0.119\n",
      "42: ['TX_3', 'HOBBIES_1'] error: 0.034\n",
      "43: ['TX_3', 'HOBBIES_2'] error: 0.226\n",
      "44: ['TX_3', 'HOUSEHOLD_1'] error: 0.108\n",
      "45: ['TX_3', 'HOUSEHOLD_2'] error: 0.021\n",
      "46: ['TX_3', 'FOODS_1'] error: 0.178\n",
      "47: ['TX_3', 'FOODS_2'] error: 0.123\n",
      "48: ['TX_3', 'FOODS_3'] error: 0.099\n",
      "49: ['WI_1', 'HOBBIES_1'] error: 0.019\n",
      "50: ['WI_1', 'HOBBIES_2'] error: 0.372\n",
      "51: ['WI_1', 'HOUSEHOLD_1'] error: 0.04\n",
      "52: ['WI_1', 'HOUSEHOLD_2'] error: 0.042\n",
      "53: ['WI_1', 'FOODS_1'] error: 0.056\n",
      "54: ['WI_1', 'FOODS_2'] error: 0.01\n",
      "55: ['WI_1', 'FOODS_3'] error: 0.099\n",
      "56: ['WI_2', 'HOBBIES_1'] error: 0.023\n",
      "57: ['WI_2', 'HOBBIES_2'] error: 0.109\n",
      "58: ['WI_2', 'HOUSEHOLD_1'] error: 0.118\n",
      "59: ['WI_2', 'HOUSEHOLD_2'] error: 0.046\n",
      "60: ['WI_2', 'FOODS_1'] error: 0.202\n",
      "61: ['WI_2', 'FOODS_2'] error: 0.113\n",
      "62: ['WI_2', 'FOODS_3'] error: 0.007\n",
      "63: ['WI_3', 'HOBBIES_1'] error: 0.076\n",
      "64: ['WI_3', 'HOBBIES_2'] error: 0.045\n",
      "65: ['WI_3', 'HOUSEHOLD_1'] error: 0.036\n",
      "66: ['WI_3', 'HOUSEHOLD_2'] error: 0.201\n",
      "67: ['WI_3', 'FOODS_1'] error: 0.08\n",
      "68: ['WI_3', 'FOODS_2'] error: 0.303\n",
      "69: ['WI_3', 'FOODS_3'] error: 0.227\n"
     ]
    }
   ],
   "source": [
    "count = 0\n",
    "for idx, val in enumerate(series_setup(store_id, dept_id)):\n",
    "    print(f'{count}: {val} error: {round(forecast_lst[idx], 3)}')\n",
    "    count += 1"
   ]
  },
  {
   "cell_type": "code",
   "execution_count": 66,
   "metadata": {},
   "outputs": [
    {
     "name": "stdout",
     "output_type": "stream",
     "text": [
      "CA1 store mean is 0.06459742520565472\n"
     ]
    },
    {
     "data": {
      "image/png": "[encoded data removed]",
      "text/plain": [
       "<Figure size 432x288 with 1 Axes>"
      ]
     },
     "metadata": {},
     "output_type": "display_data"
    }
   ],
   "source": [
    "print(f'CA1 store mean is {arr[:7].mean()}')\n",
    "\n",
    "fig, ax = plt.subplots()\n",
    "ax.hist(arr[:7])\n",
    "plt.show()"
   ]
  },
  {
   "cell_type": "code",
   "execution_count": 134,
   "metadata": {},
   "outputs": [],
   "source": [
    "def store_error_hist(arr, name):\n",
    "    print(f'{name} store mean forecasting error is {round(arr.mean(),2)}')\n",
    "\n",
    "    fig, ax = plt.subplots()\n",
    "    ax.hist(arr)\n",
    "    ax.set_title(f'{name} Store Forecasting Error Histogram')\n",
    "    plt.show()"
   ]
  },
  {
   "cell_type": "code",
   "execution_count": 135,
   "metadata": {},
   "outputs": [
    {
     "name": "stdout",
     "output_type": "stream",
     "text": [
      "CA store mean forecasting error is 0.1\n"
     ]
    },
    {
     "data": {
      "image/png": "[encoded data removed]",
      "text/plain": [
       "<Figure size 432x288 with 1 Axes>"
      ]
     },
     "metadata": {},
     "output_type": "display_data"
    }
   ],
   "source": [
    "store_error_hist(arr[:28], 'CA')"
   ]
  },
  {
   "cell_type": "code",
   "execution_count": 136,
   "metadata": {},
   "outputs": [
    {
     "name": "stdout",
     "output_type": "stream",
     "text": [
      "TX store mean forecasting error is 0.1\n"
     ]
    },
    {
     "data": {
      "image/png": "[encoded data removed]",
      "text/plain": [
       "<Figure size 432x288 with 1 Axes>"
      ]
     },
     "metadata": {},
     "output_type": "display_data"
    }
   ],
   "source": [
    "store_error_hist(arr[28:48], 'TX')"
   ]
  },
  {
   "cell_type": "code",
   "execution_count": 137,
   "metadata": {},
   "outputs": [
    {
     "name": "stdout",
     "output_type": "stream",
     "text": [
      "WI store mean forecasting error is 0.11\n"
     ]
    },
    {
     "data": {
      "image/png": "[encoded data removed]",
      "text/plain": [
       "<Figure size 432x288 with 1 Axes>"
      ]
     },
     "metadata": {},
     "output_type": "display_data"
    }
   ],
   "source": [
    "store_error_hist(arr[48:], 'WI')"
   ]
  },
  {
   "cell_type": "code",
   "execution_count": 138,
   "metadata": {},
   "outputs": [
    {
     "name": "stdout",
     "output_type": "stream",
     "text": [
      "CA1 store mean forecasting error is 0.06\n"
     ]
    },
    {
     "data": {
      "image/png": "[encoded data removed]",
      "text/plain": [
       "<Figure size 432x288 with 1 Axes>"
      ]
     },
     "metadata": {},
     "output_type": "display_data"
    }
   ],
   "source": [
    "store_error_hist(arr[:7], 'CA1')"
   ]
  },
  {
   "cell_type": "code",
   "execution_count": 139,
   "metadata": {},
   "outputs": [
    {
     "name": "stdout",
     "output_type": "stream",
     "text": [
      "CA2 store mean forecasting error is 0.19\n"
     ]
    },
    {
     "data": {
      "image/png": "[encoded data removed]",
      "text/plain": [
       "<Figure size 432x288 with 1 Axes>"
      ]
     },
     "metadata": {},
     "output_type": "display_data"
    }
   ],
   "source": [
    "store_error_hist(arr[7:14], 'CA2')"
   ]
  },
  {
   "cell_type": "code",
   "execution_count": 140,
   "metadata": {},
   "outputs": [
    {
     "name": "stdout",
     "output_type": "stream",
     "text": [
      "CA3 store mean forecasting error is 0.09\n"
     ]
    },
    {
     "data": {
      "image/png": "[encoded data removed]",
      "text/plain": [
       "<Figure size 432x288 with 1 Axes>"
      ]
     },
     "metadata": {},
     "output_type": "display_data"
    }
   ],
   "source": [
    "store_error_hist(arr[14:21], 'CA3')"
   ]
  },
  {
   "cell_type": "code",
   "execution_count": 141,
   "metadata": {},
   "outputs": [
    {
     "name": "stdout",
     "output_type": "stream",
     "text": [
      "CA4 store mean forecasting error is 0.06\n"
     ]
    },
    {
     "data": {
      "image/png": "[encoded data removed]",
      "text/plain": [
       "<Figure size 432x288 with 1 Axes>"
      ]
     },
     "metadata": {},
     "output_type": "display_data"
    }
   ],
   "source": [
    "store_error_hist(arr[21:28], 'CA4')"
   ]
  },
  {
   "cell_type": "code",
   "execution_count": 142,
   "metadata": {},
   "outputs": [
    {
     "name": "stdout",
     "output_type": "stream",
     "text": [
      "TX1 store mean forecasting error is 0.1\n"
     ]
    },
    {
     "data": {
      "image/png": "[encoded data removed]",
      "text/plain": [
       "<Figure size 432x288 with 1 Axes>"
      ]
     },
     "metadata": {},
     "output_type": "display_data"
    }
   ],
   "source": [
    "store_error_hist(arr[28:35], 'TX1')"
   ]
  },
  {
   "cell_type": "code",
   "execution_count": 143,
   "metadata": {},
   "outputs": [
    {
     "name": "stdout",
     "output_type": "stream",
     "text": [
      "TX2 store mean forecasting error is 0.09\n"
     ]
    },
    {
     "data": {
      "image/png": "[encoded data removed]",
      "text/plain": [
       "<Figure size 432x288 with 1 Axes>"
      ]
     },
     "metadata": {},
     "output_type": "display_data"
    }
   ],
   "source": [
    "store_error_hist(arr[35:42], 'TX2')"
   ]
  },
  {
   "cell_type": "code",
   "execution_count": 144,
   "metadata": {},
   "outputs": [
    {
     "name": "stdout",
     "output_type": "stream",
     "text": [
      "TX3 store mean forecasting error is 0.11\n"
     ]
    },
    {
     "data": {
      "image/png": "[encoded data removed]",
      "text/plain": [
       "<Figure size 432x288 with 1 Axes>"
      ]
     },
     "metadata": {},
     "output_type": "display_data"
    }
   ],
   "source": [
    "store_error_hist(arr[42:49], 'TX3')"
   ]
  },
  {
   "cell_type": "code",
   "execution_count": 145,
   "metadata": {},
   "outputs": [
    {
     "name": "stdout",
     "output_type": "stream",
     "text": [
      "WI1 store mean forecasting error is 0.09\n"
     ]
    },
    {
     "data": {
      "image/png": "[encoded data removed]",
      "text/plain": [
       "<Figure size 432x288 with 1 Axes>"
      ]
     },
     "metadata": {},
     "output_type": "display_data"
    }
   ],
   "source": [
    "store_error_hist(arr[49:56], 'WI1')"
   ]
  },
  {
   "cell_type": "code",
   "execution_count": 146,
   "metadata": {},
   "outputs": [
    {
     "name": "stdout",
     "output_type": "stream",
     "text": [
      "WI2 store mean forecasting error is 0.09\n"
     ]
    },
    {
     "data": {
      "image/png": "[encoded data removed]",
      "text/plain": [
       "<Figure size 432x288 with 1 Axes>"
      ]
     },
     "metadata": {},
     "output_type": "display_data"
    }
   ],
   "source": [
    "store_error_hist(arr[56:63], 'WI2')"
   ]
  },
  {
   "cell_type": "code",
   "execution_count": 147,
   "metadata": {},
   "outputs": [
    {
     "name": "stdout",
     "output_type": "stream",
     "text": [
      "WI3 store mean forecasting error is 0.12\n"
     ]
    },
    {
     "data": {
      "image/png": "[encoded data removed]",
      "text/plain": [
       "<Figure size 432x288 with 1 Axes>"
      ]
     },
     "metadata": {},
     "output_type": "display_data"
    }
   ],
   "source": [
    "store_error_hist(arr[63:69], 'WI3')"
   ]
  },
  {
   "cell_type": "code",
   "execution_count": null,
   "metadata": {},
   "outputs": [],
   "source": []
  },
  {
   "cell_type": "code",
   "execution_count": null,
   "metadata": {},
   "outputs": [],
   "source": []
  },
  {
   "cell_type": "code",
   "execution_count": null,
   "metadata": {},
   "outputs": [],
   "source": []
  },
  {
   "cell_type": "code",
   "execution_count": null,
   "metadata": {},
   "outputs": [],
   "source": []
  }
 ],
 "metadata": {
  "kernelspec": {
   "display_name": "Python 3",
   "language": "python",
   "name": "python3"
  },
  "language_info": {
   "codemirror_mode": {
    "name": "ipython",
    "version": 3
   },
   "file_extension": ".py",
   "mimetype": "text/x-python",
   "name": "python",
   "nbconvert_exporter": "python",
   "pygments_lexer": "ipython3",
   "version": "3.7.4"
  }
 },
 "nbformat": 4,
 "nbformat_minor": 2
}
